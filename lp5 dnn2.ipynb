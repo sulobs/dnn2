{
 "cells": [
  {
   "cell_type": "code",
   "execution_count": null,
   "id": "94928f37",
   "metadata": {},
   "outputs": [],
   "source": [
    "import tensorflow as tf\n",
    "from tensorflow import keras\n",
    "import numpy as np\n",
    "import matplotlib.pyplot as plt\n",
    "import seaborn as sns\n",
    "from sklearn.metrics import accuracy_score, f1_score, classification_report\n",
    "from termcolor import colored\n",
    "\n",
    "print(\"\\n\\nMulticlass classification using Deep Neural Networksfor OCR Letter Recognition Dataset \\n\\n\")\n",
    "(x_train, y_train), (x_test, y_test) = keras.datasets.mnist.load_data()\n",
    "x_train, x_test = x_train / 255.0, x_test / 255.0\n",
    "x_train = x_train.reshape(-1, 784)\n",
    "x_test = x_test.reshape(-1, 784)\n",
    "\n",
    "model = keras.Sequential([\n",
    "    keras.layers.Dense(512, activation='relu', input_shape=(784,)),  \n",
    "    keras.layers.Dense(256, activation='relu'),  \n",
    "    keras.layers.Dense(128, activation='relu'),  \n",
    "    keras.layers.Dense(10, activation='softmax')  \n",
    "])\n",
    "\n",
    "model.compile(optimizer='adam',\n",
    "              loss='sparse_categorical_crossentropy',\n",
    "              metrics=['accuracy'])\n",
    "model.fit(x_train, y_train, epochs=1, batch_size=32, validation_data=(x_test, y_test))\n",
    "test_loss, test_acc = model.evaluate(x_test, y_test, verbose=2)\n",
    "print(f\"\\nTest accuracy: {test_acc:.4f}\")\n",
    "predictions = model.predict(x_test)\n",
    "y_pred_probs = model.predict(x_test)  \n",
    "y_pred = np.argmax(y_pred_probs, axis=1)\n",
    "\n",
    "def plot_image(i, predictions_array, true_label, img):\n",
    "    plt.grid(False)\n",
    "    plt.xticks([])\n",
    "    plt.yticks([])\n",
    "    plt.imshow(img, cmap=plt.cm.binary)\n",
    "    predicted_label = np.argmax(predictions_array)\n",
    "    color = 'blue' if predicted_label == true_label else 'red'\n",
    "    plt.xlabel(f\"Pred: {predicted_label} (True: {true_label})\", color=color)\n",
    "num_rows, num_cols = 10, 10\n",
    "num_images = num_rows * num_cols\n",
    "plt.figure(figsize=(15, 15), layout='tight')\n",
    "\n",
    "for i in range(num_images):\n",
    "    plt.subplot(num_rows, num_cols, i + 1)\n",
    "    plot_image(i, predictions[i], y_test[i], x_test[i].reshape(28, 28))\n",
    "plt.show()\n",
    "report = classification_report(y_test, y_pred, target_names=[str(i) for i in range(10)])\n",
    "print(\"\\n\\nMulti-Class Classification Report:\\n\\n\", report)"
   ]
  }
 ],
 "metadata": {
  "kernelspec": {
   "display_name": "Python 3 (ipykernel)",
   "language": "python",
   "name": "python3"
  },
  "language_info": {
   "codemirror_mode": {
    "name": "ipython",
    "version": 3
   },
   "file_extension": ".py",
   "mimetype": "text/x-python",
   "name": "python",
   "nbconvert_exporter": "python",
   "pygments_lexer": "ipython3",
   "version": "3.9.12"
  }
 },
 "nbformat": 4,
 "nbformat_minor": 5
}
